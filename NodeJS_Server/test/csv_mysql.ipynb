{
 "cells": [
  {
   "cell_type": "code",
   "execution_count": 4,
   "metadata": {},
   "outputs": [],
   "source": [
    "import os\n",
    "import requests\n",
    "import pandas as pd\n",
    "import numpy as np\n",
    "import pymysql\n",
    "from PIL import Image\n",
    "import io"
   ]
  },
  {
   "cell_type": "code",
   "execution_count": 2,
   "metadata": {},
   "outputs": [
    {
     "data": {
      "text/plain": [
       "품목일련번호     int64\n",
       "품목명       object\n",
       "업소명       object\n",
       "큰제품이미지    object\n",
       "표시앞       object\n",
       "표시뒤       object\n",
       "의약품제형     object\n",
       "색상앞       object\n",
       "색상뒤       object\n",
       "분할선앞      object\n",
       "분할선뒤      object\n",
       "분류명       object\n",
       "효능효과      object\n",
       "용법용량      object\n",
       "주의사항      object\n",
       "dtype: object"
      ]
     },
     "execution_count": 2,
     "metadata": {},
     "output_type": "execute_result"
    }
   ],
   "source": [
    "csv_file = r'C:\\Users\\dlfyd\\Desktop\\CapStoneProject_App\\데이터셋_최종.csv'\n",
    "\n",
    "# CSV 파일 읽기\n",
    "# df = pd.read_csv(csv_file, encoding='cp949')\n",
    "\n",
    "# 'NA'를 NaN으로 처리하기 위해 데이터프레임을 문자열로 변환 후 다시 읽어들임\n",
    "df = pd.read_csv(csv_file,encoding='cp949', keep_default_na=False, na_values=[''])\n",
    "\n",
    "# 값이 비어있는 셀은 NaN으로 처리\n",
    "# df.replace('', np.nan, inplace=True)\n",
    "\n",
    "df.dtypes"
   ]
  },
  {
   "cell_type": "code",
   "execution_count": 3,
   "metadata": {},
   "outputs": [
    {
     "data": {
      "text/plain": [
       "품목일련번호                                            201302390\n",
       "품목명                                    위나톤정50밀리그램(이토프리드염산염)\n",
       "업소명                                                 한화제약(주)\n",
       "큰제품이미지    https://nedrug.mfds.go.kr/pbp/cmn/itemImageDow...\n",
       "표시앞                                                      NA\n",
       "표시뒤                                                       -\n",
       "의약품제형                                                    원형\n",
       "색상앞                                                      하양\n",
       "색상뒤                                                       -\n",
       "분할선앞                                                      -\n",
       "분할선뒤                                                      -\n",
       "분류명                                               기타의소화기관용약\n",
       "효능효과      https://nedrug.mfds.go.kr/pbp/cmn/pdfDownload/...\n",
       "용법용량      https://nedrug.mfds.go.kr/pbp/cmn/pdfDownload/...\n",
       "주의사항      https://nedrug.mfds.go.kr/pbp/cmn/pdfDownload/...\n",
       "Name: 1740, dtype: object"
      ]
     },
     "execution_count": 3,
     "metadata": {},
     "output_type": "execute_result"
    }
   ],
   "source": [
    "row = df.iloc[1740]\n",
    "row"
   ]
  },
  {
   "cell_type": "code",
   "execution_count": 5,
   "metadata": {},
   "outputs": [],
   "source": [
    "# MySQL 연결 설정\n",
    "conn = pymysql.connect(\n",
    "    host='localhost',\n",
    "    user='root',\n",
    "    password='1234',\n",
    "    database='android_project'\n",
    ")\n",
    "cursor = conn.cursor()"
   ]
  },
  {
   "cell_type": "code",
   "execution_count": 60,
   "metadata": {},
   "outputs": [],
   "source": [
    "# MySQL 연결 닫기\n",
    "cursor.close()\n",
    "conn.close()"
   ]
  },
  {
   "cell_type": "code",
   "execution_count": 23,
   "metadata": {},
   "outputs": [],
   "source": [
    "# columns_to_keep = ['품목일련번호', '품목명', '업소명', '분류명', '의약품제형', \n",
    "# \t\t\t\t\t\t\t\t\t '표시앞', '표시뒤', '색상앞', '색상뒤', '분할선앞', '분할선뒤', '큰제품이미지']"
   ]
  },
  {
   "cell_type": "code",
   "execution_count": 72,
   "metadata": {},
   "outputs": [
    {
     "data": {
      "text/plain": [
       "품목일련번호                                            200301457\n",
       "품목명                                         다나텍캡슐(플루옥세틴염산염)\n",
       "업소명                                                오스틴제약(주)\n",
       "큰제품이미지    https://nedrug.mfds.go.kr/pbp/cmn/itemImageDow...\n",
       "표시앞                                                WJPNNT20\n",
       "표시뒤                                                       -\n",
       "의약품제형                                                   장방형\n",
       "색상앞                                                      연두\n",
       "색상뒤                                                      노랑\n",
       "분할선앞                                                      -\n",
       "분할선뒤                                                      -\n",
       "분류명                                                  정신신경용제\n",
       "효능효과      https://nedrug.mfds.go.kr/pbp/cmn/pdfDownload/...\n",
       "용법용량      https://nedrug.mfds.go.kr/pbp/cmn/pdfDownload/...\n",
       "주의사항      https://nedrug.mfds.go.kr/pbp/cmn/pdfDownload/...\n",
       "Name: 7214, dtype: object"
      ]
     },
     "execution_count": 72,
     "metadata": {},
     "output_type": "execute_result"
    }
   ],
   "source": [
    "# # 이미지 다운로드 및 압축하여 DataFrame에 저장 및 오류 발생 행을 저장할 배열\n",
    "# error_rows = []\n",
    "\n",
    "# df에서 첫 번째 행 선택\n",
    "row = df.iloc[7214]\n",
    "row\n",
    "\n",
    "# try:\n",
    "#     # 이미지 URL 가져오기\n",
    "#     image_url = row['큰제품이미지']\n",
    "#     # 이미지 다운로드\n",
    "#     response = requests.get(image_url)\n",
    "#     if response.status_code == 200:\n",
    "#          # 이미지 압축\n",
    "#         img = Image.open(io.BytesIO(response.content))\n",
    "#         img_buffer = io.BytesIO()\n",
    "#         img.save(img_buffer, format='JPEG', quality=20)  # 압축 품질 조정 가능\n",
    "#         image_data = img_buffer.getvalue()\n",
    "\n",
    "#         # image_data = response.content\n",
    "#         # MySQL에 데이터 삽입\n",
    "#         query = \"INSERT INTO test_pill_info VALUES (%s, %s, %s, %s, %s, %s, %s, %s, %s, %s, %s, %s)\"\n",
    "#         values = (row['품목일련번호'], row['품목명'], row['업소명'], row['분류명'], \n",
    "#                   row['의약품제형'], row['표시앞'], row['표시뒤'], row['색상앞'], row['색상뒤'], \n",
    "#                   row['분할선앞'], row['분할선뒤'], image_data)\n",
    "#         cursor.execute(query, values)\n",
    "#         conn.commit()\n",
    "#         print(\"Data inserted successfully.\")\n",
    "#     else:\n",
    "#         error_rows.append(index)  # 오류 발생한 행을 배열에 추가\n",
    "#         print(\"Failed to download image from URL:\", image_url)\n",
    "# except Exception as e:\n",
    "#     error_rows.append(index)  # 오류 발생한 행을 배열에 추가\n",
    "#     print(\"Error:\", str(e))"
   ]
  },
  {
   "cell_type": "code",
   "execution_count": null,
   "metadata": {},
   "outputs": [],
   "source": [
    "error_rows = []\n",
    "\n",
    "# start_index = 7215  # 원하는 시작 인덱스 지정\n",
    "\n",
    "# for index, row in df.loc[start_index:].iterrows():\n",
    "\n",
    "for index, row in df.iterrows():\n",
    "    try:\n",
    "        # 이미지 URL 가져오기\n",
    "        image_url = row['큰제품이미지']\n",
    "        # 이미지 다운로드\n",
    "        response = requests.get(image_url)\n",
    "        if response.status_code == 200:\n",
    "             # 이미지 압축\n",
    "            img = Image.open(io.BytesIO(response.content))\n",
    "            img_buffer = io.BytesIO()\n",
    "            img.save(img_buffer, format='JPEG', quality=20)  # 압축 품질 조정 가능\n",
    "            image_data = img_buffer.getvalue()\n",
    "\n",
    "            # image_data = response.content\n",
    "            # MySQL에 데이터 삽입\n",
    "            query = \"INSERT INTO Pill_Info VALUES (%s, %s, %s, %s, %s, %s, %s, %s, %s, %s, %s, %s)\"\n",
    "            values = (row['품목일련번호'], row['품목명'], row['업소명'], row['분류명'], \n",
    "                      row['의약품제형'], row['표시앞'], row['표시뒤'], row['색상앞'], row['색상뒤'], \n",
    "                      row['분할선앞'], row['분할선뒤'], image_data)\n",
    "            cursor.execute(query, values)\n",
    "            conn.commit()\n",
    "            # print(\"Data inserted successfully.\")\n",
    "        else:\n",
    "            error_rows.append(index)  # 오류 발생한 행을 배열에 추가\n",
    "            print(\"Failed to download image from URL:\", image_url)\n",
    "    except Exception as e:\n",
    "        error_rows.append(index)  # 오류 발생한 행을 배열에 추가\n",
    "        print(\"Error:\", str(e))\n",
    "        "
   ]
  },
  {
   "cell_type": "code",
   "execution_count": 65,
   "metadata": {},
   "outputs": [
    {
     "data": {
      "text/plain": [
       "[159, 408, 1823, 1824, 4513, 6905, 7117]"
      ]
     },
     "execution_count": 65,
     "metadata": {},
     "output_type": "execute_result"
    }
   ],
   "source": [
    "error_rows # count = 7208"
   ]
  },
  {
   "cell_type": "code",
   "execution_count": null,
   "metadata": {},
   "outputs": [],
   "source": [
    "# MySQL에서 이미지 데이터 불러오기\n",
    "query = \"SELECT image FROM pill_info WHERE serial_number = %s\"\n",
    "serial_number = '200103029'\n",
    "cursor.execute(query, (serial_number,))\n",
    "image_data = cursor.fetchone()[0]  # 첫 번째 결과 레코드의 이미지 데이터 가져오기\n",
    "\n",
    "# BLOB 형식의 이미지 데이터를 Pillow를 사용하여 이미지로 변환\n",
    "image = Image.open(io.BytesIO(image_data))\n",
    "image.show()  # 이미지 표시"
   ]
  },
  {
   "cell_type": "code",
   "execution_count": 1,
   "metadata": {},
   "outputs": [],
   "source": [
    "from PyPDF2 import PdfReader\n",
    "\n",
    "# PDF 파일에서 텍스트 추출\n",
    "def extract_text_from_pdf(pdf_path):\n",
    "    text = \"\"\n",
    "    with open(pdf_path, \"rb\") as file:\n",
    "        reader = PdfReader(file)\n",
    "        for page in reader.pages:\n",
    "            text += page.extract_text()\n",
    "    return text\n",
    "\n",
    "# def save_text_to_mysql(text, column_name):\n",
    "#     try:\n",
    "#         # 테이블 이름은 \"test\"이며, 컬럼 이름은 필요에 따라 수정하세요.\n",
    "#         sql = f\"INSERT INTO test ({column_name}) VALUES (%s)\"\n",
    "#         # 첫 번째 줄 제거\n",
    "#         lines = text.split('\\n', 1)\n",
    "#         if len(lines) > 1:\n",
    "#             text = lines[1]\n",
    "#         cursor.execute(sql, (text,))\n",
    "#         conn.commit()\n",
    "#         print(\"Text saved to MySQL successfully.\")\n",
    "#     except Exception as e:\n",
    "#         print(\"Error:\", e)"
   ]
  },
  {
   "cell_type": "code",
   "execution_count": 8,
   "metadata": {},
   "outputs": [],
   "source": [
    "def update_text_in_mysql(text, column_name):\n",
    "    try:\n",
    "        # 테이블 이름은 \"test\"이며, 컬럼 이름은 필요에 따라 수정하세요.\n",
    "        sql = f\"UPDATE pill_info SET {column_name} = %s WHERE serial_number = 201803136\"\n",
    "        # 첫 번째 줄 제거\n",
    "        # lines = text.split('\\n', 1)\n",
    "        # if len(lines) > 1:\n",
    "        #     text = lines[1]\n",
    "        cursor.execute(sql, (text,))\n",
    "        conn.commit()\n",
    "        print(f\"Text updated in MySQL column {column_name} successfully.\")\n",
    "    except Exception as e:\n",
    "        print(\"Error:\", e)"
   ]
  },
  {
   "cell_type": "code",
   "execution_count": 9,
   "metadata": {},
   "outputs": [
    {
     "name": "stdout",
     "output_type": "stream",
     "text": [
      "Text updated in MySQL column EE successfully.\n",
      "Text updated in MySQL column UD successfully.\n",
      "Text updated in MySQL column NB successfully.\n"
     ]
    }
   ],
   "source": [
    "# 파일 이름을 기반으로 반복 작업 수행\n",
    "def process_files_and_save_to_mysql(file_names, column_names):\n",
    "    for file_name, column_name in zip(file_names, column_names):\n",
    "        pdf_path = rf\"C:\\Users\\dlfyd\\Desktop\\CapStoneProject_App\\Node_Server\\CapstoneServer\\pdf\\{file_name}.pdf\"\n",
    "        pdf_text = extract_text_from_pdf(pdf_path)\n",
    "        update_text_in_mysql(pdf_text, column_name)\n",
    "        \n",
    "# PDF 파일 이름과 해당 컬럼 이름들\n",
    "# file_names = [\"fn20EE\", \"fn20UD\", \"fn20NB\"]\n",
    "file_names = [\"jngEE\", \"jngUD\", \"jngNB\"]\n",
    "column_names = [\"EE\", \"UD\", \"NB\"]\n",
    "\n",
    "# 각 파일에서 텍스트를 추출하고 MySQL에 저장\n",
    "process_files_and_save_to_mysql(file_names, column_names)"
   ]
  },
  {
   "cell_type": "code",
   "execution_count": null,
   "metadata": {},
   "outputs": [],
   "source": [
    "# # 텍스트를 메모장 파일에 저장하는 함수\n",
    "# def save_text_to_txt(text, txt_file):\n",
    "#     with open(txt_file, \"w\", encoding=\"utf-8\") as f:\n",
    "#         f.write(text)\n",
    "#     print(\"Text saved to\", txt_file, \"successfully.\")\n",
    "\n",
    "# def remove_first_line_from_txt(txt_file):\n",
    "#     with open(txt_file, \"r\", encoding=\"utf-8\") as f:\n",
    "#         lines = f.readlines()\n",
    "#     with open(txt_file, \"w\", encoding=\"utf-8\") as f:\n",
    "#         f.writelines(lines[1:])\n",
    "\n",
    "# # 텍스트를 메모장 파일에 저장\n",
    "# txt_file = \"output.txt\"\n",
    "# save_text_to_txt(pdf_text, txt_file)\n",
    "\n",
    "# remove_first_line_from_txt(txt_file)"
   ]
  },
  {
   "cell_type": "code",
   "execution_count": null,
   "metadata": {},
   "outputs": [
    {
     "name": "stdout",
     "output_type": "stream",
     "text": [
      "Text saved to output.txt successfully.\n"
     ]
    }
   ],
   "source": [
    "# PDF 파일 경로\n",
    "pdf_path = \"pdf/fn20EE.pdf\"\n",
    "\n",
    "# PDF 파일에서 텍스트 추출\n",
    "pdf_text = extract_text_from_pdf(pdf_path)"
   ]
  },
  {
   "cell_type": "code",
   "execution_count": null,
   "metadata": {},
   "outputs": [
    {
     "name": "stdout",
     "output_type": "stream",
     "text": [
      "Text saved to MySQL successfully.\n"
     ]
    }
   ],
   "source": [
    "# MySQL에 텍스트 저장\n",
    "save_text_to_mysql(pdf_text)"
   ]
  },
  {
   "cell_type": "markdown",
   "metadata": {},
   "source": [
    "## testdata_30 set deepLearning"
   ]
  },
  {
   "cell_type": "code",
   "execution_count": 4,
   "metadata": {},
   "outputs": [],
   "source": [
    "import os\n",
    "import requests\n",
    "import pandas as pd\n",
    "import numpy as np\n",
    "import pymysql\n",
    "from PIL import Image\n",
    "import io"
   ]
  },
  {
   "cell_type": "code",
   "execution_count": 2,
   "metadata": {},
   "outputs": [
    {
     "data": {
      "text/plain": [
       "품목일련번호     int64\n",
       "품목명       object\n",
       "업소명       object\n",
       "큰제품이미지    object\n",
       "표시앞       object\n",
       "표시뒤       object\n",
       "의약품제형     object\n",
       "색상앞       object\n",
       "색상뒤       object\n",
       "분할선앞      object\n",
       "분할선뒤      object\n",
       "분류명       object\n",
       "효능효과      object\n",
       "용법용량      object\n",
       "주의사항      object\n",
       "dtype: object"
      ]
     },
     "execution_count": 2,
     "metadata": {},
     "output_type": "execute_result"
    }
   ],
   "source": [
    "# csv_file = r'C:\\Users\\dlfyd\\Desktop\\CapStoneProject_App\\Test_30DataSet\\testdataset.csv'\n",
    "csv_file = r'C:\\Users\\dlfyd\\Desktop\\CapStoneProject_App\\데이터셋_최종.csv'\n",
    "\n",
    "\n",
    "# CSV 파일 읽기\n",
    "# df = pd.read_csv(csv_file, encoding='cp949')\n",
    "\n",
    "# 'NA'를 NaN으로 처리하기 위해 데이터프레임을 문자열로 변환 후 다시 읽어들임\n",
    "df = pd.read_csv(csv_file,encoding='cp949', keep_default_na=False, na_values=[''])\n",
    "\n",
    "# 값이 비어있는 셀은 NaN으로 처리\n",
    "# df.replace('', np.nan, inplace=True)\n",
    "\n",
    "df.dtypes"
   ]
  },
  {
   "cell_type": "code",
   "execution_count": 5,
   "metadata": {},
   "outputs": [],
   "source": [
    "# MySQL 연결 설정\n",
    "conn = pymysql.connect(\n",
    "    host='localhost',\n",
    "    user='root',\n",
    "    password='1234',\n",
    "    database='android_project'\n",
    ")\n",
    "cursor = conn.cursor()"
   ]
  },
  {
   "cell_type": "code",
   "execution_count": 4,
   "metadata": {},
   "outputs": [
    {
     "name": "stdout",
     "output_type": "stream",
     "text": [
      "Error: cannot identify image file <_io.BytesIO object at 0x111C2898>\n",
      "Error: (1062, \"Duplicate entry '201706587' for key 'pill_info.PRIMARY'\")\n",
      "Error: (1062, \"Duplicate entry '201706587' for key 'pill_info.PRIMARY'\")\n",
      "Error: (1062, \"Duplicate entry '201706587' for key 'pill_info.PRIMARY'\")\n",
      "Error: (1062, \"Duplicate entry '201706587' for key 'pill_info.PRIMARY'\")\n",
      "Error: (1062, \"Duplicate entry '201706587' for key 'pill_info.PRIMARY'\")\n",
      "Error: (1062, \"Duplicate entry '201706587' for key 'pill_info.PRIMARY'\")\n",
      "Error: ('Connection aborted.', RemoteDisconnected('Remote end closed connection without response'))\n",
      "Error: (1062, \"Duplicate entry '201507425' for key 'pill_info.PRIMARY'\")\n",
      "Error: ('Connection aborted.', RemoteDisconnected('Remote end closed connection without response'))\n",
      "Error: ('Connection aborted.', RemoteDisconnected('Remote end closed connection without response'))\n",
      "Error: (1062, \"Duplicate entry '201507425' for key 'pill_info.PRIMARY'\")\n",
      "Error: ('Connection aborted.', RemoteDisconnected('Remote end closed connection without response'))\n",
      "Error: ('Connection aborted.', RemoteDisconnected('Remote end closed connection without response'))\n",
      "Error: ('Connection aborted.', ConnectionResetError(10054, '현재 연결은 원격 호스트에 의해 강제로 끊겼습니다', None, 10054, None))\n",
      "Error: (\"Connection broken: ConnectionResetError(10054, '현재 연결은 원격 호스트에 의해 강제로 끊겼습니다', None, 10054, None)\", ConnectionResetError(10054, '현재 연결은 원격 호스트에 의해 강제로 끊겼습니다', None, 10054, None))\n",
      "Error: cannot identify image file <_io.BytesIO object at 0x11C153E8>\n",
      "Error: ('Connection aborted.', RemoteDisconnected('Remote end closed connection without response'))\n",
      "Error: (1062, \"Duplicate entry '202300676' for key 'pill_info.PRIMARY'\")\n"
     ]
    }
   ],
   "source": [
    "# 이미지 다운로드 및 압축하여 DataFrame에 저장 및 오류 발생 행을 저장할 배열\n",
    "error_rows = []\n",
    "\n",
    "# # df에서 첫 번째 행 선택\n",
    "# row = df.iloc[1638]\n",
    "# row\n",
    "for index, row in df.iloc[13682:].iterrows():\n",
    "# for index, row in df.iterrows():\n",
    "    try:\n",
    "        # 이미지 URL 가져오기\n",
    "        image_url = row['큰제품이미지']\n",
    "        # 이미지 다운로드\n",
    "        response = requests.get(image_url)\n",
    "        if response.status_code == 200:\n",
    "            # 이미지 압축\n",
    "            img = Image.open(io.BytesIO(response.content))\n",
    "            img_buffer = io.BytesIO()\n",
    "            img.save(img_buffer, format='JPEG', quality=20)  # 압축 품질 조정 가능\n",
    "            image_data = img_buffer.getvalue()\n",
    "\n",
    "            # image_data = response.content\n",
    "            # MySQL에 데이터 삽입\n",
    "            # query = \"\"\"\n",
    "            # INSERT INTO test_30_pill_info (Serial_Number,Item_Name, Company, Classification_Name, \n",
    "            # Shape, Front_Mark, Back_Mark, Front_Color, Back_Color, Front_Line, Back_Line, Image) \n",
    "            # VALUES(%s, %s, %s, %s, %s, %s, %s, %s, %s, %s, %s, %s)\"\"\"\n",
    "\n",
    "            # query = \"\"\"\n",
    "            # INSERT INTO Pill_Info (Serial_Number,Item_Name, Company, Classification_Name, \n",
    "            # Shape, Front_Mark, Back_Mark, Front_Color, Back_Color, Front_Line, Back_Line, Image) \n",
    "            # VALUES(%s, %s, %s, %s, %s, %s, %s, %s, %s, %s, %s, %s)\"\"\"\n",
    "\n",
    "            # values = (row['품목일련번호'], row['품목명'], row['업소명'], row['분류명'], \n",
    "            #         row['의약품제형'], row['표시앞'], row['표시뒤'], row['색상앞'], row['색상뒤'], \n",
    "            #         row['분할선앞'], row['분할선뒤'], image_data)\n",
    "\n",
    "            query = \"INSERT INTO Pill_Info VALUES (%s, %s, %s, %s, %s, %s, %s, %s, %s, %s, %s, %s, %s, %s, %s)\"\n",
    "            values = (row['품목일련번호'], row['품목명'], row['업소명'], row['분류명'], \n",
    "                      row['의약품제형'], row['표시앞'], row['표시뒤'], row['색상앞'], row['색상뒤'], \n",
    "                      row['분할선앞'], row['분할선뒤'], image_data, row['효능효과'], row['용법용량'], row['주의사항'])\n",
    "            \n",
    "            cursor.execute(query, values)\n",
    "            conn.commit()\n",
    "            # print(\"Data inserted successfully.\")\n",
    "        else:\n",
    "            error_rows.append(index)  # 오류 발생한 행을 배열에 추가\n",
    "            print(\"Failed to download image from URL:\", image_url)\n",
    "    except Exception as e:\n",
    "        error_rows.append(index)  # 오류 발생한 행을 배열에 추가\n",
    "        print(\"Error:\", str(e))"
   ]
  },
  {
   "cell_type": "code",
   "execution_count": 28,
   "metadata": {},
   "outputs": [
    {
     "data": {
      "text/plain": [
       "품목일련번호                                            201501680\n",
       "품목명                                    위더콕스캡슐200밀리그램(세레콕시브)\n",
       "업소명                                                위더스제약(주)\n",
       "큰제품이미지    https://nedrug.mfds.go.kr/pbp/cmn/itemImageDow...\n",
       "표시앞                                                   WUCLB\n",
       "표시뒤                                                       -\n",
       "의약품제형                                                   장방형\n",
       "색상앞                                                   하양|노랑\n",
       "색상뒤                                                   하양|노랑\n",
       "분할선앞                                                      -\n",
       "분할선뒤                                                      -\n",
       "분류명                                               해열.진통.소염제\n",
       "효능효과      https://nedrug.mfds.go.kr/pbp/cmn/pdfDownload/...\n",
       "용법용량      https://nedrug.mfds.go.kr/pbp/cmn/pdfDownload/...\n",
       "주의사항      https://nedrug.mfds.go.kr/pbp/cmn/pdfDownload/...\n",
       "Name: 25214, dtype: object"
      ]
     },
     "execution_count": 28,
     "metadata": {},
     "output_type": "execute_result"
    }
   ],
   "source": [
    "#끝\n",
    "# df에서 첫 번째 행 선택\n",
    "row = df.iloc[25214]\n",
    "row"
   ]
  }
 ],
 "metadata": {
  "kernelspec": {
   "display_name": "Python 3",
   "language": "python",
   "name": "python3"
  },
  "language_info": {
   "codemirror_mode": {
    "name": "ipython",
    "version": 3
   },
   "file_extension": ".py",
   "mimetype": "text/x-python",
   "name": "python",
   "nbconvert_exporter": "python",
   "pygments_lexer": "ipython3",
   "version": "3.8.1"
  }
 },
 "nbformat": 4,
 "nbformat_minor": 2
}
