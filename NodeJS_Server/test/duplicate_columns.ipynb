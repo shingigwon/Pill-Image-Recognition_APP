{
 "cells": [
  {
   "cell_type": "code",
   "execution_count": 6,
   "metadata": {},
   "outputs": [],
   "source": [
    "import pandas as pd\n",
    "\n",
    "# CSV 파일 읽기\n",
    "file_path = r'C:\\Users\\dlfyd\\Desktop\\CapStoneProject_App\\데이터셋_최종.csv'  # CSV 파일 경로를 입력하세요.\n",
    "df = pd.read_csv(file_path, encoding='cp949')"
   ]
  },
  {
   "cell_type": "code",
   "execution_count": 4,
   "metadata": {},
   "outputs": [
    {
     "name": "stdout",
     "output_type": "stream",
     "text": [
      "'품목일련번호' 열에 중복된 값이 있는 행 인덱스: [193, 408, 1822, 1823, 1824, 5933, 5942, 6904, 6905, 7117, 7234, 7236, 7237, 14549, 15362, 15363, 15364, 15365, 15366, 15367, 15368, 16116, 16661, 25014, 25015]\n"
     ]
    }
   ],
   "source": [
    "# 특정 열 이름\n",
    "column_name = '품목일련번호'\n",
    "\n",
    "duplicate_indices = df[df.duplicated(subset=[column_name], keep=False)].index.tolist()\n",
    "\n",
    "# 결과 출력\n",
    "if duplicate_indices:\n",
    "    print(f\"'{column_name}' 열에 중복된 값이 있는 행 인덱스: {duplicate_indices}\")\n",
    "else:\n",
    "    print(f\"'{column_name}' 열에 중복된 값이 없습니다.\")"
   ]
  },
  {
   "cell_type": "code",
   "execution_count": 7,
   "metadata": {},
   "outputs": [
    {
     "name": "stdout",
     "output_type": "stream",
     "text": [
      "'품목일련번호' 열에 중복된 값과 행 인덱스:\n",
      "값: 200201478, 행 인덱스: [5933, 7234]\n",
      "값: 200202793, 행 인덱스: [5942, 7117]\n",
      "값: 200209641, 행 인덱스: [1822, 1823, 1824]\n",
      "값: 200300393, 행 인덱스: [7236, 7237]\n",
      "값: 200401818, 행 인덱스: [6904, 6905]\n",
      "값: 200906540, 행 인덱스: [193, 408]\n",
      "값: 201507425, 행 인덱스: [14549, 16116, 16661]\n",
      "값: 201706587, 행 인덱스: [15362, 15363, 15364, 15365, 15366, 15367, 15368]\n",
      "값: 202300676, 행 인덱스: [25014, 25015]\n"
     ]
    }
   ],
   "source": [
    "# 중복된 값 찾기\n",
    "duplicate_values = df[df.duplicated(subset=[column_name], keep=False)]\n",
    "\n",
    "# 중복된 값과 그 값이 있는 행 인덱스 출력\n",
    "if not duplicate_values.empty:\n",
    "    grouped_duplicates = duplicate_values.groupby(column_name).apply(lambda x: x.index.tolist()).to_dict()\n",
    "    print(f\"'{column_name}' 열에 중복된 값과 행 인덱스:\")\n",
    "    for value, indices in grouped_duplicates.items():\n",
    "        print(f\"값: {value}, 행 인덱스: {indices}\")\n",
    "else:\n",
    "    print(f\"'{column_name}' 열에 중복된 값이 없습니다.\")"
   ]
  }
 ],
 "metadata": {
  "kernelspec": {
   "display_name": "Python 3",
   "language": "python",
   "name": "python3"
  },
  "language_info": {
   "codemirror_mode": {
    "name": "ipython",
    "version": 3
   },
   "file_extension": ".py",
   "mimetype": "text/x-python",
   "name": "python",
   "nbconvert_exporter": "python",
   "pygments_lexer": "ipython3",
   "version": "3.8.1"
  }
 },
 "nbformat": 4,
 "nbformat_minor": 2
}
